{
 "cells": [
  {
   "cell_type": "code",
   "execution_count": 2,
   "id": "ece084bb",
   "metadata": {},
   "outputs": [],
   "source": [
    "# IS362 | Week3 Assignment | Biking from NYC to KeyWest \n",
    "# Lang Tuang | Sep 12,2021 \n",
    "# Keep daily cumilative ridden miles using Series \n",
    "# Output daily ridden miles "
   ]
  },
  {
   "cell_type": "code",
   "execution_count": 3,
   "id": "6d0d0dbd",
   "metadata": {},
   "outputs": [],
   "source": [
    "import numpy as num\n",
    "import pandas as pan"
   ]
  },
  {
   "cell_type": "code",
   "execution_count": 5,
   "id": "74e38b08",
   "metadata": {},
   "outputs": [],
   "source": [
    "# Google maps says the trip is 1,515miles with total of 124hrs on biking.\n",
    "# We will ride approx 12hrs a day, total 10 days, approx 150miles a day."
   ]
  },
  {
   "cell_type": "code",
   "execution_count": 6,
   "id": "d2dd67ff",
   "metadata": {},
   "outputs": [
    {
     "name": "stdout",
     "output_type": "stream",
     "text": [
      "Day1      165\n",
      "Day2      325\n",
      "Day3      480\n",
      "Day4      635\n",
      "Day5      785\n",
      "Day6      940\n",
      "Day7     1100\n",
      "Day8     1260\n",
      "Day9     1420\n",
      "Day10    1515\n",
      "dtype: int64\n"
     ]
    }
   ],
   "source": [
    "miles = pan.Series ([165, 160, 155, 155, 150, 155, 160, 160, 160, 95 ], \n",
    "                    index = ['Day1','Day2','Day3','Day4','Day5','Day6','Day7','Day8','Day9','Day10'])\n",
    "#numpy.cumsum = return the cumulative sum of the elements along a given axis.\n",
    "dailytotal = (miles.cumsum())\n",
    "print (dailytotal)"
   ]
  },
  {
   "cell_type": "code",
   "execution_count": 7,
   "id": "132e84a1",
   "metadata": {},
   "outputs": [],
   "source": [
    "#Show total miles that you road each day. \n",
    "#Above, we adds the miles ridden each day, now we have to do almost the reverse of it.\n",
    "# iteritems = returns an iterator over the dictionary's (key, value) pairs."
   ]
  },
  {
   "cell_type": "code",
   "execution_count": 11,
   "id": "9a8e8c24",
   "metadata": {},
   "outputs": [
    {
     "name": "stdout",
     "output_type": "stream",
     "text": [
      "Day1 165\n",
      "Day2 160\n",
      "Day3 155\n",
      "Day4 155\n",
      "Day5 150\n",
      "Day6 155\n",
      "Day7 160\n",
      "Day8 160\n",
      "Day9 160\n",
      "Day10 95\n"
     ]
    }
   ],
   "source": [
    "for key, value in dailytotal.iteritems():\n",
    "    day = miles[key]\n",
    "    print (key, day)"
   ]
  },
  {
   "cell_type": "code",
   "execution_count": null,
   "id": "c715cb03",
   "metadata": {},
   "outputs": [],
   "source": []
  }
 ],
 "metadata": {
  "kernelspec": {
   "display_name": "Python 3",
   "language": "python",
   "name": "python3"
  },
  "language_info": {
   "codemirror_mode": {
    "name": "ipython",
    "version": 3
   },
   "file_extension": ".py",
   "mimetype": "text/x-python",
   "name": "python",
   "nbconvert_exporter": "python",
   "pygments_lexer": "ipython3",
   "version": "3.8.8"
  }
 },
 "nbformat": 4,
 "nbformat_minor": 5
}
